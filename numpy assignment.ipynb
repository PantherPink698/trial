{
 "cells": [
  {
   "cell_type": "code",
   "execution_count": 6,
   "id": "827d6d4a-26f5-43f9-9e94-771744e0fab2",
   "metadata": {
    "editable": true,
    "slideshow": {
     "slide_type": ""
    },
    "tags": []
   },
   "outputs": [],
   "source": [
    "import numpy as np\n",
    "import pandas as pd"
   ]
  },
  {
   "cell_type": "code",
   "execution_count": 9,
   "id": "49a9ded4-5187-422c-b4ff-00b4a3aa1d4d",
   "metadata": {},
   "outputs": [
    {
     "name": "stdout",
     "output_type": "stream",
     "text": [
      "     0    1    2\n",
      "0  0.0  0.0  0.0\n",
      "1  0.0  0.0  0.0\n",
      "2  0.0  0.0  0.0\n"
     ]
    }
   ],
   "source": [
    "zeros_arr = np.zeros((3, 3))\n",
    "df = pd.DataFrame(zeros_arr)\n",
    "print(df)"
   ]
  },
  {
   "cell_type": "code",
   "execution_count": null,
   "id": "25ece42f-88b9-4beb-9cb3-52fcd974b209",
   "metadata": {},
   "outputs": [],
   "source": [
    "np.zeros((3,3))\n",
    "np.where\n",
    "np.select"
   ]
  },
  {
   "cell_type": "code",
   "execution_count": 13,
   "id": "843d1584-131e-4508-a9cc-5b9b4678e625",
   "metadata": {},
   "outputs": [
    {
     "data": {
      "text/plain": [
       "array([[1., 1., 1.],\n",
       "       [1., 1., 1.],\n",
       "       [1., 1., 1.],\n",
       "       [1., 1., 1.]])"
      ]
     },
     "execution_count": 13,
     "metadata": {},
     "output_type": "execute_result"
    }
   ],
   "source": [
    "np.ones((4,3))"
   ]
  },
  {
   "cell_type": "code",
   "execution_count": 17,
   "id": "daca8bb2-52e4-45da-b96d-3499b938fe00",
   "metadata": {},
   "outputs": [
    {
     "name": "stdout",
     "output_type": "stream",
     "text": [
      "0\n",
      "2\n",
      "4\n",
      "6\n",
      "8\n",
      "10\n",
      "12\n",
      "14\n",
      "16\n",
      "18\n"
     ]
    }
   ],
   "source": [
    "np.arange(0,20,2)\n",
    "\n",
    "for i in range(0,20,2):\n",
    "    print (i) "
   ]
  },
  {
   "cell_type": "code",
   "execution_count": 38,
   "id": "35824623-d633-44ea-afa1-4ec63ddb2fc3",
   "metadata": {
    "slideshow": {
     "slide_type": ""
    },
    "tags": []
   },
   "outputs": [],
   "source": [
    "#1:\n",
    "arr = np.array([10, 11, 12, 13, 14, 15, 16, 17, 18, 19, 20])\n",
    "#2:\n",
    "arr2 = np.zeros((3,3))\n",
    "##3:\n",
    "arr3 = np.array((2,4), dtype=np.int32)\n",
    "#4:\n",
    "arr4 = np.arange(16)\n",
    "reshaped_arr4 = arr4.reshape((4,4))\n",
    "#5:\n",
    "arr5 = np.linspace(0, 5, num = 10)\n",
    "#6:\n",
    "even_array = np.arange(2, 11, 2)\n",
    "#7:\n",
    "arr7 = np.eye(5)\n",
    "#8:\n",
    "arr8 = np.random.randint(1, 100)\n",
    "#9:\n",
    "arr9 = np.full((2,3,2), 7)\n",
    "\n",
    "#10\n",
    "arr10 = np.logspace(2, 5, num =5, base = 10)\n",
    "##Array Manipulation:\n",
    "#11:\n",
    "arr12 = np.arange(12)\n",
    "reshaped = arr12.reshape(3,4)\n",
    "##12:\n",
    "arr11 = np.arange(2,3)\n",
    "flatten_aray = np.ravel(arr11)\n",
    "#13:\n",
    "arr13 = np.arange(16)\n",
    "re_shaped = arr13.reshape((4,4))\n",
    "secon_row = arr13[1:]\n",
    "#14:\n",
    "arr14 = np.array([[3,3], [3,3], [3,3]], dtype = np.int32)\n",
    "arr14[[0,2]] = arr14[[2,0]]\n",
    "\n",
    "##15:\n",
    "arr15 = np.array([1, 2, 3, 4, 5, 6, 7 ,8, 9])\n",
    "arr15[arr15 > 5] = 0\n",
    "#16:\n",
    "arr16 = np.ones((5,5), dtype = np.int32)\n",
    "arr16[0, :]  = 0\n",
    "arr16[-1, :] = 0\n",
    "arr16[:,0] = 0\n",
    "arr16[:,-1] = 0\n",
    "\n",
    "#17:\n",
    "arr17 = np.array([[1,2,3,4],\n",
    "                  [5,4,6,3],\n",
    "                  [2,4,5,1],\n",
    "                  [11,43,53,12]])\n",
    "\n",
    "diagnol_elements = np.diag(arr17)\n",
    "\n",
    "#18:\n",
    "arr18 = np.array([[2,3,4,5],\n",
    "                 [34,4,53, 5],\n",
    "                  [12, 13, 15, 16]])\n",
    "reversed_col = np.fliplr(arr18)\n",
    "                  \n",
    "#19:\n",
    "arr19 = np.array([[12, 13, 14], [1, 2, 3], [6, 6, 7]])\n",
    "arr19_transposed  = arr19.T\n",
    "stacked = np.vstack((arr19, arr19_transposed))\n",
    "\n",
    "##20:\n",
    "arr20 = np.array([[1,2,3,4,5,6],\n",
    "                 [12,13,14,11,15,16],\n",
    "                 [21,22,23,24,25,26],\n",
    "                 [31,32,33,34,35,36],\n",
    "                 [41,42,43,44,45,46],\n",
    "                 [51,52,53,54,55,56]])\n",
    "\n",
    "arr_subarray = np.vsplit(arr20, 3)\n",
    "                 "
   ]
  },
  {
   "cell_type": "code",
   "execution_count": 58,
   "id": "1a0bff79-42e8-4d9e-a0bf-c05e6230b24c",
   "metadata": {},
   "outputs": [
    {
     "name": "stdout",
     "output_type": "stream",
     "text": [
      "[ 2  4  6  8 10]\n"
     ]
    }
   ],
   "source": [
    "print(even_array)"
   ]
  },
  {
   "cell_type": "markdown",
   "id": "0493c9d7-c2e5-4a55-9026-23b89c487236",
   "metadata": {},
   "source": [
    "# Array Operations:\n"
   ]
  },
  {
   "cell_type": "code",
   "execution_count": 45,
   "id": "b524c5de-cf41-4a9c-8dc8-2e5b4f959058",
   "metadata": {},
   "outputs": [],
   "source": [
    "#21:\n",
    "array1  = np.array([[1,2,3,4,5]])\n",
    "array2 = np.array([[11,12,13,14,15]])\n",
    "sum_array = np.add(array1, array2)"
   ]
  },
  {
   "cell_type": "code",
   "execution_count": 47,
   "id": "7a49b40c-123a-47a3-9c4c-fb3a5818ee70",
   "metadata": {},
   "outputs": [],
   "source": [
    "#22:\n",
    "arr2x3 = np.array([[2,3,4],\n",
    "                   [12,22,33]])\n",
    "scaler_value = 4\n",
    "multiplied = arr2x3 * scaler_value"
   ]
  },
  {
   "cell_type": "code",
   "execution_count": 49,
   "id": "671ae70b-628e-4bf9-8cfc-6cf2964e818f",
   "metadata": {},
   "outputs": [],
   "source": [
    "#23:\n",
    "arr23 = np.array([[1,2,3,4]])\n",
    "squared = arr23 ** 2"
   ]
  },
  {
   "cell_type": "code",
   "execution_count": 53,
   "id": "983f86c1-15e7-42f7-a2c9-4a1b1827bf91",
   "metadata": {},
   "outputs": [],
   "source": [
    "#24:\n",
    "arr1 = np.array([[2,2],\n",
    "                [4,6]])\n",
    "arr2 = np.array([[33,27],\n",
    "                 [3,7]])\n",
    "\n",
    "division = np.divide(arr1, arr2)"
   ]
  },
  {
   "cell_type": "code",
   "execution_count": 61,
   "id": "a253573b-fb8d-423b-9508-0b5ef14362b7",
   "metadata": {},
   "outputs": [],
   "source": [
    "##25:\n",
    "arr25 = np.linspace(0, np.pi, num=5)\n",
    "sin_arr = np.sin(arr25)\n"
   ]
  },
  {
   "cell_type": "code",
   "execution_count": 71,
   "id": "af9b4042-ec87-4586-8f66-779285a58ddb",
   "metadata": {},
   "outputs": [],
   "source": [
    "#26:\n",
    "arr = np.array([[1, 2, 3]])\n",
    "              \n",
    "arr2 = np.array([[1,2,3],\n",
    "                 [4,5,6]])\n",
    "\n",
    "add_array = arr + arr2"
   ]
  },
  {
   "cell_type": "code",
   "execution_count": 65,
   "id": "f80bb0a3-382e-4d77-a9e2-0f53d47619c8",
   "metadata": {},
   "outputs": [
    {
     "data": {
      "text/plain": [
       "array([[1],\n",
       "       [2],\n",
       "       [3]])"
      ]
     },
     "execution_count": 65,
     "metadata": {},
     "output_type": "execute_result"
    }
   ],
   "source": [
    "arr"
   ]
  },
  {
   "cell_type": "code",
   "execution_count": 77,
   "id": "b5269b9f-8296-4ab0-9c11-bdb56a0b9eea",
   "metadata": {},
   "outputs": [],
   "source": [
    "#27:\n",
    "array = np.random.randint(1, 11, size = (3, 3))\n",
    "array2 = np.random.randint(11, 22, size = (3, 3))\n",
    "\n",
    "multiplied = np.multiply(array, array2)"
   ]
  },
  {
   "cell_type": "code",
   "execution_count": 79,
   "id": "e810f1ec-12c5-4d7e-aa4f-feca4914387b",
   "metadata": {},
   "outputs": [],
   "source": [
    "#28: \n",
    "arr28 = np.array([[2,3],\n",
    "                  [4,5]])\n",
    "raised_cube = np.power(arr28, 3)"
   ]
  },
  {
   "cell_type": "code",
   "execution_count": 83,
   "id": "efd2ffd5-720c-4461-9ca0-7229909f6a69",
   "metadata": {},
   "outputs": [],
   "source": [
    "#29: \n",
    "arr29 = np.array([[1,2,3,4],\n",
    "                  [2,4,6,8],\n",
    "                  [10,12,14,16],\n",
    "                  [20,22,24,26]])\n",
    "array_mean = np.mean(arr29)\n",
    "\n",
    "subtraction = arr29 - array_mean"
   ]
  },
  {
   "cell_type": "code",
   "execution_count": 85,
   "id": "2e6e5cc6-8442-434c-868f-a0e3570ed297",
   "metadata": {},
   "outputs": [
    {
     "data": {
      "text/plain": [
       "array([[-9.875, -8.875, -7.875, -6.875],\n",
       "       [-8.875, -6.875, -4.875, -2.875],\n",
       "       [-0.875,  1.125,  3.125,  5.125],\n",
       "       [ 9.125, 11.125, 13.125, 15.125]])"
      ]
     },
     "execution_count": 85,
     "metadata": {},
     "output_type": "execute_result"
    }
   ],
   "source": [
    "subtraction"
   ]
  },
  {
   "cell_type": "code",
   "execution_count": 105,
   "id": "98bfa965-2e41-40bb-8353-803a14b47b3f",
   "metadata": {},
   "outputs": [],
   "source": [
    "#30:\n",
    "arr = np.array([[1], [2], [3]])\n",
    "arr1 = np.array([[11, 22, 33]])\n",
    "\n",
    "multiplied = arr * arr1"
   ]
  },
  {
   "cell_type": "code",
   "execution_count": 107,
   "id": "b96de320-1769-4f1d-822e-31603a6a587a",
   "metadata": {},
   "outputs": [
    {
     "data": {
      "text/plain": [
       "array([[11, 22, 33],\n",
       "       [22, 44, 66],\n",
       "       [33, 66, 99]])"
      ]
     },
     "execution_count": 107,
     "metadata": {},
     "output_type": "execute_result"
    }
   ],
   "source": [
    "multiplied"
   ]
  },
  {
   "cell_type": "markdown",
   "id": "ac57bc9f-d77d-4ca1-90eb-c578966a9ecb",
   "metadata": {},
   "source": [
    "# statistical functions"
   ]
  },
  {
   "cell_type": "code",
   "execution_count": 116,
   "id": "d1e8cc6f-92df-4c0f-b128-55f9f3f2916d",
   "metadata": {},
   "outputs": [],
   "source": [
    "##31:\n",
    "random_integers = np.random.randint(10, 100, 10)\n",
    "\n",
    "meaned_value = np.mean(random_integers)"
   ]
  },
  {
   "cell_type": "code",
   "execution_count": 122,
   "id": "63d0c920-5e8d-40ba-ab14-02c815fb8d5a",
   "metadata": {},
   "outputs": [],
   "source": [
    "#32:\n",
    "arr32 = np.array([[3,2,4],\n",
    "                  [21,34,54],\n",
    "                  [11,2,32]])\n",
    "maximum_value = np.max(arr32)"
   ]
  },
  {
   "cell_type": "code",
   "execution_count": 124,
   "id": "62712391-7109-474a-85bc-83ede1959a05",
   "metadata": {},
   "outputs": [],
   "source": [
    "#33:\n",
    "arr33 = np.array([[23,21,33,45],\n",
    "                  [12,56,76,31]])\n",
    "sumed_value = np.sum(arr33)"
   ]
  },
  {
   "cell_type": "code",
   "execution_count": 126,
   "id": "a4bce0a2-1464-49c6-9978-3b9a8914f8e1",
   "metadata": {},
   "outputs": [],
   "source": [
    "##34:\n",
    "arr34 = np.array([[0, 1, 2, 3, 4, 5, 6, 7, 8, 9]])\n",
    "arr_standard_deviation = np.std(arr34)\n"
   ]
  },
  {
   "cell_type": "code",
   "execution_count": 128,
   "id": "21822787-e503-46dc-8f83-7b41e96a05aa",
   "metadata": {},
   "outputs": [],
   "source": [
    "##35:\n",
    "arr35 = np.array([[1,2,3,4],\n",
    "                  [11,12,13,14],\n",
    "                  [21,22,23,24],\n",
    "                  [31,32,34,35]])\n",
    "\n",
    "minimum_value = np.min(arr35, axis = 1)\n",
    "                "
   ]
  },
  {
   "cell_type": "code",
   "execution_count": 130,
   "id": "898e3e84-59df-4eea-856b-d884aeadcd95",
   "metadata": {},
   "outputs": [],
   "source": [
    "##36:\n",
    "arr36 = np.array([ [1, 2, 3, 4, 5]])\n",
    "median_array = np.median(arr36)"
   ]
  },
  {
   "cell_type": "code",
   "execution_count": 138,
   "id": "43c54114-bec2-4f58-964b-65bd585fe28a",
   "metadata": {},
   "outputs": [],
   "source": [
    "##37:\n",
    "arr37 = np.random.randint(0, 10, size=(5,5))\n",
    "mean_colwise = np.mean(arr37, axis=0)"
   ]
  },
  {
   "cell_type": "code",
   "execution_count": 140,
   "id": "95362c02-a0b1-4baa-9ea3-a7d94e0bee31",
   "metadata": {},
   "outputs": [],
   "source": [
    "##38:\n",
    "arr38 = np.array([2,12,np.nan, np.nan, 16, 54, np.nan])\n",
    "mean_value = np.nanmean(arr38)\n",
    "arr38[np.isnan(arr38)] = mean_value"
   ]
  },
  {
   "cell_type": "code",
   "execution_count": 142,
   "id": "9832b188-b4a5-49a5-b3b1-108490607f78",
   "metadata": {},
   "outputs": [],
   "source": [
    "##39:\n"
   ]
  },
  {
   "cell_type": "code",
   "execution_count": 144,
   "id": "86e1dc73-d6a8-4a76-8d24-f609c116a5ad",
   "metadata": {},
   "outputs": [],
   "source": [
    "##40:\n",
    "arr40 = np.array([1, 2, 3, 4, 5, 6])\n",
    "cumulative_sum = np.cumsum(arr40)"
   ]
  },
  {
   "cell_type": "markdown",
   "id": "a05a08ff-4465-4c86-b222-84caf7de64fe",
   "metadata": {},
   "source": [
    "# Linear Algebra:"
   ]
  },
  {
   "cell_type": "code",
   "execution_count": 149,
   "id": "959b56ca-da8e-40b8-9d03-6c00725e57dc",
   "metadata": {},
   "outputs": [],
   "source": [
    "#41:\n",
    "array_1 = np.array([1,2,3])\n",
    "array_2 = np.array([4,5,6])\n",
    "dot_product = np.dot(array_1, array_2)"
   ]
  },
  {
   "cell_type": "code",
   "execution_count": 151,
   "id": "3a9ef2ba-45d7-4f93-a960-e7a212e9f4dc",
   "metadata": {},
   "outputs": [],
   "source": [
    "#42:\n",
    "arr41 = np.array([[2,3,4],\n",
    "                  [3,6,7]])\n",
    "\n",
    "arr41_tanspose = np.transpose(arr41)"
   ]
  },
  {
   "cell_type": "code",
   "execution_count": 159,
   "id": "edbf1e7b-a17c-40ce-92e1-e077430eb840",
   "metadata": {},
   "outputs": [],
   "source": [
    "##43:\n",
    "arr_1 = np.array([[1, 2],\n",
    "                 [3, 4]])\n",
    "arr2 = np.array([[5, 6],\n",
    "                 [7, 8]])\n",
    "\n",
    "matmul_prod = np.matmul(arr_1, arr2)\n",
    "#44:\n",
    "determinant_arr42 = np.linalg.det(arr_1)"
   ]
  },
  {
   "cell_type": "code",
   "execution_count": 161,
   "id": "adbf79ef-5bee-48f2-9872-b9de658260a1",
   "metadata": {},
   "outputs": [],
   "source": [
    "#45:\n",
    "array44 = np.array([[1,2,3],\n",
    "                    [4,3,5],\n",
    "                    [11,14,17]])\n",
    "traced_array = np.trace(array44)"
   ]
  },
  {
   "cell_type": "code",
   "execution_count": 165,
   "id": "890b2603-ca81-42dc-99bf-8099c4d7f889",
   "metadata": {},
   "outputs": [],
   "source": [
    "#46:\n",
    "arr45 = np.array([[5, 6],\n",
    "                 [7, 8]])\n",
    "inverse_arr45 = np.linalg.inv(arr45)"
   ]
  },
  {
   "cell_type": "code",
   "execution_count": 167,
   "id": "563905de-70a4-4098-8334-7e74750625c7",
   "metadata": {},
   "outputs": [],
   "source": [
    "#47:\n",
    "arr46 = np.array([[1,2,3],\n",
    "                    [4,3,5],\n",
    "                    [11,14,17]])\n",
    "arr_46 = np.array([1, 3, 5])\n",
    "solved_eq = np.linalg.solve(arr46, arr_46)"
   ]
  },
  {
   "cell_type": "code",
   "execution_count": 169,
   "id": "c5900e71-f23f-4420-9c02-0dbd0e32a2b9",
   "metadata": {},
   "outputs": [],
   "source": [
    "#48:\n",
    "arr47 = np.array([[5, 6],\n",
    "                 [7, 8]])\n",
    "x = np.linalg.eigvals"
   ]
  },
  {
   "cell_type": "code",
   "execution_count": 171,
   "id": "3fef907a-c786-43e7-84c3-aa1b74999aa1",
   "metadata": {},
   "outputs": [],
   "source": [
    "#49:\n",
    "arr48 = np.array([[2, 3, 4], [1, 2, 3], [6, 7, 8]]) #3x2\n",
    "arr_48 = np.array([[4, 5, 6], [1, 2, 4]]) #2x3\n",
    "\n",
    "multiplication = np.matmul(arr48, arr_48)\n",
    "\n"
   ]
  },
  {
   "cell_type": "code",
   "execution_count": 173,
   "id": "813915f2-75f6-490a-a804-f850630377c0",
   "metadata": {},
   "outputs": [],
   "source": [
    "#50:\n",
    "arr50 = np.array([1, 2, 3, 4, 5])\n",
    "normalize_arr50 = np.linalg.norm(arr50)\n",
    "normalized_arr = arr50/normalize_arr50\n"
   ]
  },
  {
   "cell_type": "code",
   "execution_count": null,
   "id": "b717f6af-8734-4a95-8b71-d2a5a6078fae",
   "metadata": {},
   "outputs": [],
   "source": []
  }
 ],
 "metadata": {
  "kernelspec": {
   "display_name": "Python [conda env:base] *",
   "language": "python",
   "name": "conda-base-py"
  },
  "language_info": {
   "codemirror_mode": {
    "name": "ipython",
    "version": 3
   },
   "file_extension": ".py",
   "mimetype": "text/x-python",
   "name": "python",
   "nbconvert_exporter": "python",
   "pygments_lexer": "ipython3",
   "version": "3.12.7"
  }
 },
 "nbformat": 4,
 "nbformat_minor": 5
}
